{
 "cells": [
  {
   "cell_type": "code",
   "execution_count": 1,
   "id": "balanced-order",
   "metadata": {},
   "outputs": [],
   "source": [
    "import pandas as pd\n",
    "import numpy as np\n",
    "import random"
   ]
  },
  {
   "cell_type": "code",
   "execution_count": 376,
   "id": "pretty-garlic",
   "metadata": {},
   "outputs": [],
   "source": [
    "def gen_profile_matrix(motif_matrix: list, pseudocount=False) -> np.ndarray:\n",
    "    \"\"\"\n",
    "    Returns the count matrix of a motif matrix\n",
    "    :param motif_matrix: Provided motif matrix\n",
    "    :return: The count matrix\n",
    "    \"\"\"\n",
    "    seq_len=len(motif_matrix[0])\n",
    "    num_frag=len(motif_matrix)\n",
    "    motif_matrix = [element for element in motif_matrix if (element is not None)]\n",
    "    nucleo_dict = {'A': 0, 'C': 1,\n",
    "                   'G': 2, 'T': 3}\n",
    "    count_arr = np.zeros((4, seq_len))\n",
    "\n",
    "    for col in range(seq_len):\n",
    "        nucleo_col = list()\n",
    "        for row in range(num_frag):\n",
    "            nucleo_col.append(motif_matrix[row][col])\n",
    "        for nucleo in nucleo_dict.keys():\n",
    "            occur = nucleo_col.count(nucleo)\n",
    "            count_arr[nucleo_dict[nucleo], col] = occur\n",
    "    if pseudocount:\n",
    "        count_arr=count_arr+1\n",
    "    count_arr_norm=count_arr/sum(count_arr)\n",
    "    return count_arr_norm\n",
    "        \n",
    "#         for nucleo in nucleo_dict.keys():\n",
    "#             if pseudocount:\n",
    "#                 occur = nucleo_col.count(nucleo)+1\n",
    "#             else:\n",
    "#                 occur = nucleo_col.count(nucleo)\n",
    "#             count_arr[nucleo_dict[nucleo], col] = occur\n",
    "#         count_arr_norm=count_arr/sum(count_arr)\n",
    "#     return count_arr_norm\n",
    "\n",
    "def ProfileMostProbableKmer(Text,k,prof):\n",
    "    nuc_dic={'A':0,'C':1,'G':2,'T':3}\n",
    "    score=0\n",
    "    bestkmer=[]\n",
    "    for i in range(len(Text)-k+1):\n",
    "        tmpscore=1\n",
    "        pattern=Text[i:i+k]\n",
    "        for j,p in enumerate(pattern):\n",
    "            tmpscore=prof[nuc_dic[p]][j]*tmpscore\n",
    "        if tmpscore>score:\n",
    "            score=tmpscore\n",
    "            bestkmer=pattern\n",
    "        if score==0:\n",
    "            bestkmer=Text[0:k]\n",
    "    return bestkmer\n",
    "\n",
    "def gen_score(motifs,profile_matrix):\n",
    "    consensus=gen_consensus_sequence(profile_matrix)\n",
    "    score = 0\n",
    "    for motif in motifs:\n",
    "        score += HammingDistance(consensus, motif)\n",
    "        \n",
    "    return score\n",
    "def gen_consensus_sequence(profile_matrix: np.ndarray) -> str:\n",
    "\n",
    "    row_nucleo_dict = {0: 'A', 1: 'C',\n",
    "                       2: 'G', 3: 'T'}\n",
    "\n",
    "    seq = str()\n",
    "    nucleotide = str()\n",
    "    col_length = len(profile_matrix[0, :])\n",
    "    row_length = len(profile_matrix[:, 0])\n",
    "    for j in range(col_length):\n",
    "        max_val = 0\n",
    "        for i in range(row_length):\n",
    "            if profile_matrix[i, j] > max_val:\n",
    "                max_val = profile_matrix[i, j]\n",
    "                nucleotide = row_nucleo_dict[i]\n",
    "        seq = seq + nucleotide\n",
    "    return seq\n",
    "def HammingDistance(texta,textb):\n",
    "    mis=0\n",
    "    for i in range(min(len(texta),len(textb))):\n",
    "        if texta[i]!=textb[i]:\n",
    "            mis+=1\n",
    "        else:\n",
    "            continue\n",
    "    return mis\n",
    "\n",
    "def motif_score(motif,profile):\n",
    "    nuc_dic={'A':0,'C':1,'G':2,'T':3}\n",
    "    score=1\n",
    "    for j,p in enumerate(motif):\n",
    "        score=profile[nuc_dic[p]][j]*score\n",
    "    return score"
   ]
  },
  {
   "cell_type": "markdown",
   "id": "appreciated-asian",
   "metadata": {},
   "source": [
    "# RandomizedMotifSearch"
   ]
  },
  {
   "cell_type": "markdown",
   "id": "tropical-ottawa",
   "metadata": {},
   "source": [
    "Since a single run of RandomizedMotifSearch may generate a rather poor set of motifs, bioinformaticians usually run this algorithm thousands of times. On each run, they begin from a new randomly selected set of k-mers, selecting the best set of k-mers found in all these runs\n",
    "\n",
    "RandomizedMotifSearch(Dna, k, t)\n",
    "    randomly select k-mers Motifs = (Motif1, …, Motift) in each string from Dna\n",
    "    BestMotifs ← Motifs\n",
    "    while forever\n",
    "        Profile ← Profile(Motifs)\n",
    "        Motifs ← Motifs(Profile, Dna)\n",
    "        if Score(Motifs) < Score(BestMotifs)\n",
    "            BestMotifs ← Motifs\n",
    "        else\n",
    "            return BestMotifs"
   ]
  },
  {
   "cell_type": "code",
   "execution_count": 244,
   "id": "neither-evans",
   "metadata": {},
   "outputs": [],
   "source": [
    "def RandomizedMotifSearch(Dna, k, t):\n",
    "    best_score=10000\n",
    "\n",
    "    motifs=[]\n",
    "    rand_idxs=[random.randint(0, len(DNA[0])-k) for _ in range(t)]\n",
    "    for i,rand_idx in enumerate(rand_idxs):\n",
    "        motifs.append(DNA[i][rand_idx:rand_idx+k])\n",
    "    best_motifs= motifs\n",
    "    for j in range(100):\n",
    "        profile=gen_profile_matrix(best_motifs,pseudocount=True)\n",
    "        motifs=[]\n",
    "        for d in DNA:\n",
    "            motifs.append(ProfileMostProbableKmer(d, k, profile))\n",
    "        if motifs==best_motifs:\n",
    "            break\n",
    "        if gen_score(motifs,profile) < best_score:\n",
    "            best_score= gen_score(motifs,profile)\n",
    "            best_motifs= motifs[:]\n",
    "    return best_motifs,best_score\n"
   ]
  },
  {
   "cell_type": "code",
   "execution_count": 386,
   "id": "mexican-trance",
   "metadata": {},
   "outputs": [
    {
     "name": "stdout",
     "output_type": "stream",
     "text": [
      "9\n",
      "['AACGGCCA', 'AAGTGCCA', 'TAGTACCG', 'AGGTGCAC', 'ACGTGCAA'] 10\n"
     ]
    }
   ],
   "source": [
    "DNA='CGCCCCTCTCGGGGGTGTTCAGTAAACGGCCA GGGCGAGGTATGTGTAAGTGCCAAGGTGCCAG TAGTACCGAGACCGAAAGAAGTATACAGGCGT TAGATCAAGTTTCAGGTGCACGTCGGTGAACC AATCCACCAGCTCCACGTGCAATGTTGGCCTA'.split(' ')\n",
    "# DNA=['TTACCTTAAC','GATGTCTGTC','ACGGCGTTAG','CCCTAACGAG','CGTCAGAGGT']\n",
    "k=8\n",
    "t=5\n",
    "\n",
    "motifs0=['TCTCGGGG','CCAAGGTG','TACAGGCG','TTCAGGTG','TCCACGTG']\n",
    "profile0=gen_profile_matrix(motifs0,pseudocount=True)\n",
    "ans_score=gen_score(motifs0,profile0)\n",
    "print(ans_score)\n",
    "\n",
    "i=0\n",
    "lastmotifs,lastscore = RandomizedMotifSearch(DNA, k, t)\n",
    "\n",
    "while (i < 1001):\n",
    "    bestmotifs,bestscore = RandomizedMotifSearch(DNA, k, t)\n",
    "    if bestscore < lastscore:\n",
    "        lastmotifs = bestmotifs\n",
    "        lastscore = bestscore\n",
    "    i += 1\n",
    "print(lastmotifs,lastscore)"
   ]
  },
  {
   "cell_type": "code",
   "execution_count": 248,
   "id": "present-mailman",
   "metadata": {},
   "outputs": [
    {
     "name": "stdout",
     "output_type": "stream",
     "text": [
      "['ATTGATTACCGTGGG', 'TCCACTATCCGTGCT', 'CTCGTGATCCGTGCC', 'AGAGTGATCCGTGCT', 'TCCCATATCCGTGCT', 'TCCGTGACTAGTGCT', 'TGGTTGATCCGTGCT', 'TCCGGAGTCCGTGCT', 'TCCGTGTAGCGTGCT', 'TCCGTGATCCGAATT', 'TCCGTGATCCGTCAA', 'TCCGGTTTCCGTGCT', 'TCCGTGTGGCGTGCT', 'TCCGTACCCCGTGCT', 'TCCGTGATCGCAGCT', 'TCGCGGATCCGTGCT', 'TCCGTGATTGCTGCT', 'TCCGTTGACCGTGCT', 'ACCGTGATCCGTGGG', 'TCCGTGATCCTATCT'] 66\n",
      "ATTGATTACCGTGGG TCCACTATCCGTGCT CTCGTGATCCGTGCC AGAGTGATCCGTGCT TCCCATATCCGTGCT TCCGTGACTAGTGCT TGGTTGATCCGTGCT TCCGGAGTCCGTGCT TCCGTGTAGCGTGCT TCCGTGATCCGAATT TCCGTGATCCGTCAA TCCGGTTTCCGTGCT TCCGTGTGGCGTGCT TCCGTACCCCGTGCT TCCGTGATCGCAGCT TCGCGGATCCGTGCT TCCGTGATTGCTGCT TCCGTTGACCGTGCT ACCGTGATCCGTGGG TCCGTGATCCTATCT\n"
     ]
    }
   ],
   "source": [
    "def read_file(filename):\n",
    "    with open(filename, \"r\") as dataset:\n",
    "        data = []\n",
    "        for line in dataset:\n",
    "            data.append(line.strip())\n",
    "        k = data[0].split(' ')[0]\n",
    "        num_of_DNAs = data[0].split(' ')[1]        \n",
    "        DNA = data[1].split(' ')\n",
    "    return DNA,int(k),int(num_of_DNAs)\n",
    "\n",
    "filename='C:/Users/Jofan/Downloads/dataset_161_5 (1).txt'\n",
    "DNA,k,t= read_file(filename)\n",
    "\n",
    "i=0\n",
    "lastmotifs,lastscore = RandomizedMotifSearch(DNA, k, t)\n",
    "\n",
    "while (i < 51):\n",
    "#     print(i)\n",
    "    bestmotifs,bestscore = RandomizedMotifSearch(DNA, k, t)\n",
    "    if bestscore < lastscore:\n",
    "        lastmotifs = bestmotifs\n",
    "        lastscore = bestscore\n",
    "    i += 1\n",
    "print(lastmotifs,lastscore)\n",
    "print(*lastmotifs)"
   ]
  },
  {
   "cell_type": "markdown",
   "id": "usual-saver",
   "metadata": {},
   "source": [
    "# gibb's sampling"
   ]
  },
  {
   "cell_type": "markdown",
   "id": "rotary-stand",
   "metadata": {},
   "source": [
    "GibbsSampler(Dna, k, t, N)\n",
    "    randomly select k-mers Motifs = (Motif1, …, Motift) in each string from Dna\n",
    "    BestMotifs ← Motifs\n",
    "    for j ← 1 to N\n",
    "        i ← Random(t)\n",
    "        Profile ← profile matrix constructed from all strings in Motifs except for Motifi\n",
    "        Motifi ← Profile-randomly generated k-mer in the i-th sequence\n",
    "        if Score(Motifs) < Score(BestMotifs)\n",
    "            BestMotifs ← Motifs\n",
    "    return BestMotifs"
   ]
  },
  {
   "cell_type": "code",
   "execution_count": 400,
   "id": "foreign-chair",
   "metadata": {},
   "outputs": [],
   "source": [
    "def GibbsSampler(Dna, k, t, N):\n",
    "    best_score=10000\n",
    "    motifs=[]\n",
    "    rand_idxs=[random.randint(0, len(DNA[0])-k) for _ in range(t)]\n",
    "    for i,rand_idx in enumerate(rand_idxs):\n",
    "        motifs.append(DNA[i][rand_idx:rand_idx+k])\n",
    "    best_motifs= motifs[:]\n",
    "    for j in range(N):\n",
    "        row_hide=random.randint(0,t-1)\n",
    "        motifs.pop(row_hide)\n",
    "        profile=gen_profile_matrix(motifs,pseudocount=True)\n",
    "        motifs_hide_score=[]\n",
    "        for i in range(len(DNA[row_hide])-k+1):\n",
    "            text=DNA[row_hide][i:i+k]\n",
    "            motifs_hide_score.append(motif_score(text,profile))\n",
    "        motifs_hide_score=motifs_hide_score/sum(motifs_hide_score)\n",
    "        rand_idxs=np.random.choice(range(len(motifs_hide_score)),p=motifs_hide_score)\n",
    "        motifs.insert(row_hide,DNA[row_hide][rand_idxs:rand_idxs+k])\n",
    "        if gen_score(motifs,profile) < gen_score(best_motifs,profile):\n",
    "            best_score=gen_score(motifs,profile)\n",
    "            best_motifs= motifs[:]\n",
    "    return best_motifs,best_score\n"
   ]
  },
  {
   "cell_type": "code",
   "execution_count": 401,
   "id": "grand-effort",
   "metadata": {},
   "outputs": [
    {
     "name": "stdout",
     "output_type": "stream",
     "text": [
      "9\n",
      "['TCTCGGGG', 'CCAAGGTG', 'TACAGGCG', 'TTCAGGTG', 'TCCACGTG'] 9\n"
     ]
    }
   ],
   "source": [
    "DNA='CGCCCCTCTCGGGGGTGTTCAGTAACCGGCCA GGGCGAGGTATGTGTAAGTGCCAAGGTGCCAG TAGTACCGAGACCGAAAGAAGTATACAGGCGT TAGATCAAGTTTCAGGTGCACGTCGGTGAACC AATCCACCAGCTCCACGTGCAATGTTGGCCTA'.split(' ')\n",
    "k=8\n",
    "t=5\n",
    "N=10\n",
    "\n",
    "motifs0=['TCTCGGGG','CCAAGGTG','TACAGGCG','TTCAGGTG','TCCACGTG']\n",
    "profile0=gen_profile_matrix(motifs0,pseudocount=True)\n",
    "ans_score=gen_score(motifs0,profile0)\n",
    "print(ans_score)\n",
    "\n",
    "i=0\n",
    "lastmotifs,lastscore = GibbsSampler(DNA, k, t,N)\n",
    "\n",
    "while (i < 20):\n",
    "#     print(i)\n",
    "    bestmotifs,bestscore = GibbsSampler(DNA, k, t,N)\n",
    "    if bestscore < lastscore:\n",
    "        lastmotifs = bestmotifs\n",
    "        lastscore = bestscore\n",
    "    i += 1\n",
    "print(lastmotifs,lastscore)"
   ]
  },
  {
   "cell_type": "code",
   "execution_count": 408,
   "id": "written-champion",
   "metadata": {},
   "outputs": [
    {
     "name": "stdout",
     "output_type": "stream",
     "text": [
      "['AAGTGGACTGTTTAG', 'ATGACGACTTCTCCG', 'GTGGGTACTTCTCGC', 'ATGGCACCTTCTCCG', 'ATGGGTACTTCAATG', 'ATGGGTACGAATCCG', 'ATGGGTACTCAACCG', 'ATGGGTTGGTCTCCG', 'ATGGGGGGTTCTCCG', 'GGGGGTACTTCTCCT', 'ATGGGTTGCTCTCCG', 'ATGGGTACTTCTGAA', 'AACCGTACTTCTCCG', 'ATGGGTAGGGCTCCG', 'ATCCCTACTTCTCCG', 'ATGGTAGCTTCTCCG', 'ATGGGTACTTTCACG', 'ATGTTGACTTCTCCG', 'ATGGGCGGTTCTCCG', 'GATGGTACTTCTCCG'] 64\n",
      "AAGTGGACTGTTTAG ATGACGACTTCTCCG GTGGGTACTTCTCGC ATGGCACCTTCTCCG ATGGGTACTTCAATG ATGGGTACGAATCCG ATGGGTACTCAACCG ATGGGTTGGTCTCCG ATGGGGGGTTCTCCG GGGGGTACTTCTCCT ATGGGTTGCTCTCCG ATGGGTACTTCTGAA AACCGTACTTCTCCG ATGGGTAGGGCTCCG ATCCCTACTTCTCCG ATGGTAGCTTCTCCG ATGGGTACTTTCACG ATGTTGACTTCTCCG ATGGGCGGTTCTCCG GATGGTACTTCTCCG\n"
     ]
    }
   ],
   "source": [
    "def read_file(filename):\n",
    "    with open(filename, \"r\") as dataset:\n",
    "        data = []\n",
    "        for line in dataset:\n",
    "            data.append(line.strip())\n",
    "        k = data[0].split(' ')[0]\n",
    "        num_of_DNAs = data[0].split(' ')[1]    \n",
    "        N = data[0].split(' ')[2] \n",
    "        DNA = data[1].split(' ')\n",
    "    return DNA,int(k),int(num_of_DNAs),int(N)\n",
    "\n",
    "filename='C:/Users/Jofan/Downloads/dataset_163_4 (2).txt'\n",
    "DNA,k,t,N= read_file(filename)\n",
    "# N=N/10\n",
    "\n",
    "i=0\n",
    "lastmotifs,lastscore = GibbsSampler(DNA, k, t,N)\n",
    "\n",
    "while (i < 20):\n",
    "#     print(i)\n",
    "    bestmotifs,bestscore = GibbsSampler(DNA, k, t,N)\n",
    "    if bestscore < lastscore:\n",
    "        lastmotifs = bestmotifs\n",
    "        lastscore = bestscore\n",
    "    i += 1\n",
    "print(lastmotifs,lastscore)\n",
    "print(*lastmotifs)"
   ]
  }
 ],
 "metadata": {
  "kernelspec": {
   "display_name": "Python 3",
   "language": "python",
   "name": "python3"
  },
  "language_info": {
   "codemirror_mode": {
    "name": "ipython",
    "version": 3
   },
   "file_extension": ".py",
   "mimetype": "text/x-python",
   "name": "python",
   "nbconvert_exporter": "python",
   "pygments_lexer": "ipython3",
   "version": "3.8.5"
  }
 },
 "nbformat": 4,
 "nbformat_minor": 5
}
