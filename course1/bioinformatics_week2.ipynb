{
 "cells": [
  {
   "cell_type": "code",
   "execution_count": 314,
   "id": "compound-valve",
   "metadata": {},
   "outputs": [],
   "source": [
    "import pandas as pd\n",
    "import numpy as np\n",
    "import matplotlib.pyplot as plt"
   ]
  },
  {
   "cell_type": "code",
   "execution_count": 315,
   "id": "velvet-leeds",
   "metadata": {},
   "outputs": [],
   "source": [
    "def skew(text):\n",
    "    score=[0]\n",
    "    for c in text:\n",
    "        if c=='G':\n",
    "            score.append(score[-1]+1)\n",
    "        elif c=='C':\n",
    "            score.append(score[-1]-1)\n",
    "        else:\n",
    "            score.append(score[-1])\n",
    "    return score"
   ]
  },
  {
   "cell_type": "code",
   "execution_count": 316,
   "id": "small-cheat",
   "metadata": {},
   "outputs": [
    {
     "data": {
      "text/plain": [
       "[14]"
      ]
     },
     "execution_count": 316,
     "metadata": {},
     "output_type": "execute_result"
    },
    {
     "data": {
      "image/png": "[encoded data removed]",
      "text/plain": [
       "<Figure size 432x288 with 1 Axes>"
      ]
     },
     "metadata": {
      "needs_background": "light"
     },
     "output_type": "display_data"
    }
   ],
   "source": [
    "text_file = open(\"C:/Users/Jofan/Downloads/dataset_7_10 (3).txt\", \"r\")\n",
    "Text = text_file.read()  #read whole file to a string\n",
    "text_file.close() #close file\n",
    "\n",
    "Text='CATTCCAGTACTTCGATGATGGCGTGAAGA'\n",
    "a=skew(Text)\n",
    "plt.scatter(np.arange(len(a)),a,s=0.5)\n",
    "min_value = min(a)\n",
    "[i for i, x in enumerate(a) if x == min_value]"
   ]
  },
  {
   "cell_type": "code",
   "execution_count": 137,
   "id": "tracked-magnet",
   "metadata": {},
   "outputs": [],
   "source": [
    "def HammingDistance(texta,textb):\n",
    "    mis=0\n",
    "#     for i in range(len(texta)):\n",
    "    for i in range(min(len(texta),len(textb))):\n",
    "        if texta[i]!=textb[i]:\n",
    "            mis+=1\n",
    "        else:\n",
    "            continue\n",
    "    return mis"
   ]
  },
  {
   "cell_type": "code",
   "execution_count": 310,
   "id": "confirmed-range",
   "metadata": {
    "scrolled": true
   },
   "outputs": [
    {
     "data": {
      "text/plain": [
       "23"
      ]
     },
     "execution_count": 310,
     "metadata": {},
     "output_type": "execute_result"
    }
   ],
   "source": [
    "texta='CAGAAAGGAAGGTCCCCATACACCGACGCACCAGTTTA'\n",
    "textb='CACGCCGTATGCATAAACGAGCCGCACGAACCAGAGAG'\n",
    "HammingDistance(texta,textb)\n"
   ]
  },
  {
   "cell_type": "code",
   "execution_count": 321,
   "id": "biological-liver",
   "metadata": {},
   "outputs": [],
   "source": [
    "def Approximate_Pattern_Matching(Pattern,Text,d):\n",
    "    match_pos=[]\n",
    "    for i in range(len(Text)-len(Pattern)+1):\n",
    "\n",
    "        Text_sub=Text[i:i+len(Pattern)]\n",
    "        if HammingDistance(Pattern,Text_sub)<=d:\n",
    "            match_pos.append(i)\n",
    "        else:\n",
    "            continue\n",
    "    return match_pos\n",
    "    "
   ]
  },
  {
   "cell_type": "code",
   "execution_count": 322,
   "id": "external-large",
   "metadata": {},
   "outputs": [
    {
     "name": "stdout",
     "output_type": "stream",
     "text": [
      "0 2 3 4 5 7 8 9 10 11 15 16 17 18 19\n",
      "15\n"
     ]
    }
   ],
   "source": [
    "text_file = open(\"C:/Users/Jofan/Downloads/dataset_9_6.txt\", \"r\")\n",
    "Text = text_file.read().splitlines()\n",
    "text_file.close() #close file\n",
    "a=Approximate_Pattern_Matching(Text[0],Text[1],int(Text[2]))\n",
    "\n",
    "a=Approximate_Pattern_Matching('CCC','CATGCCATTCGCATTGTCCCAGTGA',2)\n",
    "print(*a)\n",
    "print(len(a))"
   ]
  },
  {
   "cell_type": "code",
   "execution_count": 214,
   "id": "pursuant-tradition",
   "metadata": {},
   "outputs": [],
   "source": [
    "def Neighbors(Pattern,d):\n",
    "    if d == 0:\n",
    "        return Pattern\n",
    "    if len(Pattern) == 1: \n",
    "        return {'A', 'C', 'G', 'T'}\n",
    "#     Neighborhood=set()\n",
    "    Neighborhood=[]\n",
    "    SuffixNeighbors = Neighbors(Pattern[1:], d)\n",
    "    for c in SuffixNeighbors:\n",
    "        if HammingDistance(Pattern[1:], c)<d:\n",
    "            for base in ['A','T','C','G']:\n",
    "                Neighborhood.append(base+c)\n",
    "#                 Neighborhood.add(base+c)\n",
    "        else:\n",
    "            Neighborhood.append(Pattern[0]+c)\n",
    "#             Neighborhood.add(Pattern[0]+c)\n",
    "    return Neighborhood"
   ]
  },
  {
   "cell_type": "code",
   "execution_count": 324,
   "id": "independent-canyon",
   "metadata": {
    "scrolled": true
   },
   "outputs": [
    {
     "name": "stdout",
     "output_type": "stream",
     "text": [
      "CCAGTCAATC CCAGTCAATA CCAGTCAAAG CCAGTAAATG CCAGTTAATG CCAGACAATG CCAATCAATG CCATTCAATG CCACTCAATG CAAGTCAATG CTAGTCAATG ACAGTCAATG TCAGTCAATG CCAGTCAATG GCAGTCAATG CGAGTCAATG CCTGTCAATG CCCGTCAATG CCGGTCAATG CCAGCCAATG CCAGGCAATG CCAGTGAATG CCAGTCTATG CCAGTCCATG CCAGTCGATG CCAGTCATTG CCAGTCACTG CCAGTCAGTG CCAGTCAACG CCAGTCAAGG CCAGTCAATT\n",
      "31\n"
     ]
    }
   ],
   "source": [
    "a=Neighbors('CCAGTCAATG',1)\n",
    "print(*a)\n",
    "print(len(a))"
   ]
  },
  {
   "cell_type": "code",
   "execution_count": 245,
   "id": "vulnerable-infection",
   "metadata": {},
   "outputs": [],
   "source": [
    "def FrequentWordsWithMismatches(Text, k, d):\n",
    "    Patterns =[]\n",
    "    freqMap={}\n",
    "    n=len(Text)\n",
    "    for i in range(n-k):\n",
    "        Pattern = Text[i:i+k]\n",
    "        neighborhood = Neighbors(Pattern, d)\n",
    "        for j in range(len(neighborhood) - 1):\n",
    "            neighbor = neighborhood[j]\n",
    "            if neighbor not in freqMap:\n",
    "                freqMap[neighbor]= 1\n",
    "            else:\n",
    "                freqMap[neighbor] = freqMap[neighbor] + 1\n",
    "    \n",
    "    m = max(freqMap.values())\n",
    "    for key in freqMap:\n",
    "        if freqMap[key] == m:\n",
    "            Patterns.append(key)\n",
    "    return freqMap,Patterns"
   ]
  },
  {
   "cell_type": "code",
   "execution_count": 247,
   "id": "solid-strategy",
   "metadata": {
    "scrolled": true
   },
   "outputs": [
    {
     "name": "stdout",
     "output_type": "stream",
     "text": [
      "102\n",
      "ACCAG\n"
     ]
    }
   ],
   "source": [
    "Text='CATGCCATTCGCATTGTCCCAGTGA'\n",
    "m,a=FrequentWordsWithMismatches(Text, 5,2)\n",
    "print(*a)"
   ]
  },
  {
   "cell_type": "code",
   "execution_count": 303,
   "id": "amended-segment",
   "metadata": {},
   "outputs": [],
   "source": [
    "def ReverseComplement(Text):\n",
    "    compli_dic={'A':'T','T':'A','C':'G','G':'C'}\n",
    "    reverse_complement = \"\".join(compli_dic.get(base) for base in reversed(Text))\n",
    "    return reverse_complement\n",
    "def FrequentWordsWithMismatches_ds(Text, k, d):\n",
    "    Patterns =[]\n",
    "    freqMap={}\n",
    "    freqMap2={}\n",
    "    n=len(Text)\n",
    "    for i in range(n-k):\n",
    "        Pattern = Text[i:i+k]\n",
    "        neighborhood = Neighbors(Pattern, d)\n",
    "        for j in range(len(neighborhood) - 1):\n",
    "            neighbor = neighborhood[j]\n",
    "            if neighbor not in freqMap:\n",
    "                freqMap[neighbor]= 1\n",
    "            else:\n",
    "                freqMap[neighbor] = freqMap[neighbor] + 1\n",
    "    ## reverse complimentary\n",
    "    for key in freqMap.keys():\n",
    "        key_r=ReverseComplement(key)\n",
    "        if key_r in freqMap.keys():\n",
    "            freqMap[ReverseComplement(key_r)]=freqMap[ReverseComplement(key_r)]+freqMap[key_r]\n",
    "            freqMap[key_r]=0\n",
    "        \n",
    "    m = max(freqMap.values())\n",
    "    print(m)\n",
    "    for key in freqMap:\n",
    "        if freqMap[key] == m:\n",
    "            Patterns.append(key)\n",
    "    return freqMap,Patterns\n",
    "    print(freqMap['ATGT'],freqMap['ACAT'])"
   ]
  },
  {
   "cell_type": "code",
   "execution_count": 309,
   "id": "fifth-november",
   "metadata": {},
   "outputs": [
    {
     "name": "stdout",
     "output_type": "stream",
     "text": [
      "104\n",
      "GGGAGG\n"
     ]
    }
   ],
   "source": [
    "Text='CGCGTTCCCCTTTTCTTCGTTTTTTAACCGCGTTCCGCCCAACCGCGCGTTCTTCTTAACTTCAACAACAACAACCGTTTTCCGAACAACTTCCCCGCCCAACCGCCCAACTTTTCCCAACCCCCGTTCTTCAACTTAACTTTTCCCAACCCCTTCTTCAACTTCCCCCCCCCAACTTCAACCGTTCTTTTTTCCCCTTCCGAACCG'\n",
    "m,a=FrequentWordsWithMismatches_ds(Text, 6,3)\n",
    "print(*a)\n"
   ]
  },
  {
   "cell_type": "code",
   "execution_count": null,
   "id": "bearing-ivory",
   "metadata": {},
   "outputs": [],
   "source": [
    "text_file = open(\"C:/Users/Jofan/Downloads/Salmonella_enterica.txt\", \"r\")\n",
    "Text = text_file.read()#.splitlines()\n",
    "text_file.close() #close file\n",
    "m,a=FrequentWordsWithMismatches_ds(Text, 9,3)\n",
    "print(*a)"
   ]
  },
  {
   "cell_type": "code",
   "execution_count": null,
   "id": "exclusive-wheat",
   "metadata": {},
   "outputs": [],
   "source": []
  }
 ],
 "metadata": {
  "kernelspec": {
   "display_name": "Python 3",
   "language": "python",
   "name": "python3"
  },
  "language_info": {
   "codemirror_mode": {
    "name": "ipython",
    "version": 3
   },
   "file_extension": ".py",
   "mimetype": "text/x-python",
   "name": "python",
   "nbconvert_exporter": "python",
   "pygments_lexer": "ipython3",
   "version": "3.8.5"
  }
 },
 "nbformat": 4,
 "nbformat_minor": 5
}
