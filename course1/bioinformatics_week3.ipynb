{
 "cells": [
  {
   "cell_type": "code",
   "execution_count": 1,
   "id": "spare-bundle",
   "metadata": {},
   "outputs": [],
   "source": [
    "import pandas as pd\n",
    "import numpy as np\n",
    "import collections"
   ]
  },
  {
   "cell_type": "markdown",
   "id": "purple-discretion",
   "metadata": {},
   "source": [
    "Exercise Break: What is the expected number of occurrences of a 9-mer in 500 random DNA strings, each of length 1000? Assume that the sequences are formed by selecting each nucleotide (A, C, G, T) with the same probability (0.25)."
   ]
  },
  {
   "cell_type": "code",
   "execution_count": 2,
   "id": "sized-psychiatry",
   "metadata": {},
   "outputs": [
    {
     "data": {
      "text/plain": [
       "1.89208984375"
      ]
     },
     "execution_count": 2,
     "metadata": {},
     "output_type": "execute_result"
    }
   ],
   "source": [
    "(1000-9+1)*500/(4**9)"
   ]
  },
  {
   "cell_type": "markdown",
   "id": "monthly-disco",
   "metadata": {},
   "source": [
    "# entropy"
   ]
  },
  {
   "cell_type": "code",
   "execution_count": 3,
   "id": "theoretical-limitation",
   "metadata": {},
   "outputs": [
    {
     "data": {
      "text/plain": [
       "9.916290005356972"
      ]
     },
     "execution_count": 3,
     "metadata": {},
     "output_type": "execute_result"
    }
   ],
   "source": [
    "# entropy\n",
    "Pa=[.2,.2,0,0,0,0,.9,.1,.1,.1,.3,0]\n",
    "Pc=[.1,.6,0,0,0,0,0,.4,.1,.2,.4,.6]\n",
    "Pg=[0,0,1,1,.9,.9,.1,0,0,0,0,0]\n",
    "Pt=[.7,.2,0,0,.1,.1,0,.5,.8,.7,.3,.4]\n",
    "tmp2=0\n",
    "for i in range(len(Pa)):\n",
    "    for P in [Pa,Pc,Pg,Pt]:\n",
    "        if P[i]>0:\n",
    "            tmp=-1*P[i]*np.log2(P[i])\n",
    "        else:\n",
    "            tmp=0\n",
    "        tmp2+=tmp\n",
    "tmp2"
   ]
  },
  {
   "cell_type": "markdown",
   "id": "constant-saskatchewan",
   "metadata": {},
   "source": [
    "Furthermore, the Frequent Words Problem is inadequate because it does not correctly model the biological problem of motif finding. A DnaA box is a pattern that clumps, or appears frequently, within a relatively short interval of the genome. In contrast, a regulatory motif is a pattern that appears at least once (perhaps with variation) in each of many different regions that are scattered throughout the genome."
   ]
  },
  {
   "cell_type": "markdown",
   "id": "divided-camel",
   "metadata": {},
   "source": [
    "# A brute force algorithm for motif finding"
   ]
  },
  {
   "cell_type": "markdown",
   "id": "present-nightmare",
   "metadata": {},
   "source": [
    "Given a collection of strings Dna and an integer d, a k-mer is a (k,d)-motif if it appears in every string from Dna with at most d mismatches. For example, the implanted 15-mer in the strings above represents a (15,4)-motif.\n",
    "\n",
    "\n",
    "Input: A collection of strings Dna, and integers k and d.\n",
    "Output: All (k, d)-motifs in Dna.\n",
    "\n",
    "MotifEnumeration(Dna, k, d)\n",
    "    Patterns ← an empty set\n",
    "    for each k-mer Pattern in the first string in Dna\n",
    "        for each k-mer Pattern’ differing from Pattern by at most d mismatches\n",
    "            if Pattern' appears in each string from Dna with at most d mismatches\n",
    "                add Pattern' to Patterns\n",
    "    remove duplicates from Patterns\n",
    "    return Patterns"
   ]
  },
  {
   "cell_type": "code",
   "execution_count": 4,
   "id": "dental-circle",
   "metadata": {},
   "outputs": [],
   "source": [
    "def HammingDistance(texta,textb):\n",
    "    mis=0\n",
    "    for i in range(min(len(texta),len(textb))):\n",
    "        if texta[i]!=textb[i]:\n",
    "            mis+=1\n",
    "        else:\n",
    "            continue\n",
    "    return mis\n",
    "\n",
    "def Neighbors(Pattern,d):\n",
    "    if d == 0:\n",
    "        return Pattern\n",
    "    if len(Pattern) == 1: \n",
    "        return {'A', 'C', 'G', 'T'}\n",
    "#     Neighborhood=set()\n",
    "    Neighborhood=[]\n",
    "    SuffixNeighbors = Neighbors(Pattern[1:], d)\n",
    "    for c in SuffixNeighbors:\n",
    "        if HammingDistance(Pattern[1:], c)<d:\n",
    "            for base in ['A','T','C','G']:\n",
    "                Neighborhood.append(base+c)\n",
    "        else:\n",
    "            Neighborhood.append(Pattern[0]+c)\n",
    "    return Neighborhood\n",
    "\n",
    "\n",
    "def MotifEnumeration(DNA, k, d):\n",
    "    Patterns =[]\n",
    "    for dna in DNA:\n",
    "        dp=[]\n",
    "        for i in range(len(dna)-k+1):\n",
    "            pattern=dna[i:i+k]\n",
    "            neighborhood=Neighbors(pattern,d)\n",
    "            for j in neighborhood:\n",
    "                if j not in dp:\n",
    "                    dp.append(j)\n",
    "        Patterns.append(dp)\n",
    "    return Patterns"
   ]
  },
  {
   "cell_type": "code",
   "execution_count": 5,
   "id": "absent-divide",
   "metadata": {},
   "outputs": [
    {
     "name": "stdout",
     "output_type": "stream",
     "text": [
      "CAACT AATAA TATAA CATAA GATAA GACAA ATAAA ATAAG ATAAT ATAAC ATGAC CTAAC TAACG\n"
     ]
    }
   ],
   "source": [
    "k=5\n",
    "d=1\n",
    "DNA='CAACAGATAAGACATAGTAACCAGG ATGCATAACAAATAATATGGCCGCC TTCCAATTCTAATAAAGACGATGCC CGGTCGATAAGGCATGCCTCCAACA CTTGTCTCATTATAACGGACAAGTT CATAAACTTTCTCCCTTACGACATC'.split(' ')\n",
    "a=MotifEnumeration(DNA, k, d)\n",
    "## since output is a 2d list\n",
    "a=sum(a, []) # flatten into 1D\n",
    "a=collections.Counter(a) # and count the words that appear in every DNA\n",
    "keys=[k for k,v in a.items() if v==len(DNA)]\n",
    "print(*keys)"
   ]
  },
  {
   "cell_type": "markdown",
   "id": "nonprofit-local",
   "metadata": {},
   "source": [
    "# Median String"
   ]
  },
  {
   "cell_type": "markdown",
   "id": "western-grace",
   "metadata": {},
   "source": [
    "Median String Problem: Find a median string.\n",
    "\n",
    "Input: A collection of strings Dna and an integer k.\n",
    "Output: A k-mer Pattern that minimizes d(Pattern, Dna) among all possible choices of k-mers.\n",
    "\n",
    "MedianString(Dna, k)\n",
    "    distance ← ∞\n",
    "    for each k-mer Pattern from AA…AA to TT…TT\n",
    "        if distance > d(Pattern, Dna)\n",
    "             distance ← d(Pattern, Dna)\n",
    "             Median ← Pattern\n",
    "    return Median"
   ]
  },
  {
   "cell_type": "code",
   "execution_count": 6,
   "id": "geological-search",
   "metadata": {},
   "outputs": [],
   "source": [
    "from itertools import product\n",
    "def MedianString(DNA, k):\n",
    "    distance=10000\n",
    "    combs = [''.join(comb) for comb in product(['A','T','C','G'], repeat=k)]\n",
    "    for kmer in combs:\n",
    "        dp=[]\n",
    "        for dna in DNA:   \n",
    "            tmpscore=10000\n",
    "            for i in range(len(dna)-k+1):\n",
    "                pattern=dna[i:i+k]\n",
    "                if HammingDistance(kmer,pattern) <tmpscore:\n",
    "                    tmpscore=HammingDistance(kmer,pattern)\n",
    "            dp.append(tmpscore)\n",
    "        if sum(dp)<distance:\n",
    "            distance=sum(dp)\n",
    "            Median=kmer\n",
    "    return Median"
   ]
  },
  {
   "cell_type": "code",
   "execution_count": 7,
   "id": "informal-warning",
   "metadata": {},
   "outputs": [
    {
     "data": {
      "text/plain": [
       "'AATCCTA'"
      ]
     },
     "execution_count": 7,
     "metadata": {},
     "output_type": "execute_result"
    }
   ],
   "source": [
    "k=7\n",
    "DNA=['CTCGATGAGTAGGAAAGTAGTTTCACTGGGCGAACCACCCCGGCGCTAATCCTAGTGCCC',\n",
    "'GCAATCCTACCCGAGGCCACATATCAGTAGGAACTAGAACCACCACGGGTGGCTAGTTTC','GGTGTTGAACCACGGGGTTAGTTTCATCTATTGTAGGAATCGGCTTCAAATCCTACACAG']\n",
    "MedianString(DNA, k)"
   ]
  },
  {
   "cell_type": "markdown",
   "id": "valid-necessity",
   "metadata": {},
   "source": [
    "# Profile-most Probable k-mer"
   ]
  },
  {
   "cell_type": "markdown",
   "id": "intimate-eight",
   "metadata": {},
   "source": [
    "Profile-most Probable k-mer Problem: Find a Profile-most probable k-mer in a string.\n",
    "\n",
    "Input: A string Text, an integer k, and a 4 × k matrix Profile.\n",
    "\n",
    "Output: A Profile-most probable k-mer in Text."
   ]
  },
  {
   "cell_type": "code",
   "execution_count": 9,
   "id": "alternative-identifier",
   "metadata": {},
   "outputs": [
    {
     "data": {
      "text/plain": [
       "'ATTAGGGTGGTTG'"
      ]
     },
     "execution_count": 9,
     "metadata": {},
     "output_type": "execute_result"
    }
   ],
   "source": [
    "def ProfileMostProbableKmer(Text,k,prof):\n",
    "    nuc_dic={'A':0,'C':1,'G':2,'T':3}\n",
    "    score=0\n",
    "    bestkmer=[]\n",
    "    for i in range(len(Text)-k+1):\n",
    "        tmpscore=1\n",
    "        pattern=Text[i:i+k]\n",
    "        for j,p in enumerate(pattern):\n",
    "            tmpscore=prof[nuc_dic[p]][j]*tmpscore\n",
    "        if tmpscore>score:\n",
    "            score=tmpscore\n",
    "            bestkmer=pattern\n",
    "        if score==0:\n",
    "            bestkmer=Text[0:k]\n",
    "    return bestkmer\n",
    "\n",
    "\n",
    "def read_file(filename):\n",
    "    with open(filename, \"r\") as dataset:\n",
    "        data = []\n",
    "        for line in dataset:\n",
    "            data.append(line.strip())\n",
    "        Text = data[0]\n",
    "        k = int(data[1])\n",
    "        raw_profile = data[2:]\n",
    "        bases = ['A', 'C', 'G', 'T']\n",
    "        prof = [list(map(float, raw_profile[i].split())) for i in range(len(raw_profile))]\n",
    "        prof_array=np.array(prof)\n",
    "    return Text,k,prof_array\n",
    "Text,k,prof=read_file('C:/Users/Jofan/Downloads/dataset_159_3.txt')\n",
    "ProfileMostProbableKmer(Text,k,prof)"
   ]
  },
  {
   "cell_type": "markdown",
   "id": "outside-johnston",
   "metadata": {},
   "source": [
    "# greedy"
   ]
  },
  {
   "cell_type": "markdown",
   "id": "ignored-divide",
   "metadata": {},
   "source": [
    "GreedyMotifSearch(Dna, k, t)\n",
    "    BestMotifs ← motif matrix formed by first k-mers in each string from Dna\n",
    "    for each k-mer Motif in the first string from Dna\n",
    "        Motif1 ← Motif\n",
    "        for i = 2 to t\n",
    "            form Profile from motifs Motif1, …, Motifi - 1\n",
    "            Motifi ← Profile-most probable k-mer in the i-th string in Dna\n",
    "        Motifs ← (Motif1, …, Motift)\n",
    "        if Score(Motifs) < Score(BestMotifs)\n",
    "            BestMotifs ← Motifs\n",
    "    return BestMotifs"
   ]
  },
  {
   "cell_type": "code",
   "execution_count": 23,
   "id": "disturbed-bracket",
   "metadata": {},
   "outputs": [
    {
     "name": "stdout",
     "output_type": "stream",
     "text": [
      "ACTTCGGAATAC GGGGCTCCCTAG TTTTAAGGGTCC TCGGCTCGATAG GGGGCTGGCTAC TCGGCTCGCTAG GAAGTTACGTCG GGCTGTGTAGGA TAGTGTGGATGG TTGGCTCACTAG ATGGCTCAGTAG ACGGCTCTATAG TGGGCTCTATAG ACTGGTGCCTGG AGGGCTCAATAG TTGGCTCCCTAG GGGGCTCAATAG AGGGCTCACTAG TTAGTTCAATGC ACGGCTCGATAG GTGGCTCTATAG TCAGCACTATCA GGAGCTAACGGG GGGGCTCCGTAG GAGGCTCAATAG\n"
     ]
    }
   ],
   "source": [
    "def greedy_motif_search(DNAs: list, k_mer_len: int, num_of_DNAs: int) -> list:\n",
    "    \"\"\"\n",
    "    Returns a list of best fitting k_mers for given list of DNAs\n",
    "    :param DNAs: list of DNA\n",
    "    :param k_mer_len: Length of k_mer\n",
    "    :param num_of_DNAs: Number of DNAs\n",
    "    :return: The list of best fitting k_mers\n",
    "    \"\"\"\n",
    "    best_motifs = [DNA[0:k_mer_len] for DNA in DNAs]\n",
    "    for i in range(len(DNAs[0]) - k_mer_len + 1):\n",
    "        motif = DNAs[0][i: i + k_mer_len]\n",
    "        motifs = [motif]\n",
    "        profile0=gen_profile_matrix(best_motifs)\n",
    "        for i in range(1, num_of_DNAs):\n",
    "            profile = gen_profile_matrix(motifs)\n",
    "            prob_k_mer = ProfileMostProbableKmer(DNAs[i], k_mer_len, profile)\n",
    "            motifs.append(prob_k_mer)\n",
    "        if gen_score(motifs,profile) < gen_score(best_motifs,profile0):\n",
    "            best_motifs = motifs\n",
    "    return best_motifs\n",
    "\n",
    "def gen_profile_matrix(motif_matrix: list, pseudocount=False) -> np.ndarray:\n",
    "    \"\"\"\n",
    "    Returns the count matrix of a motif matrix\n",
    "    :param motif_matrix: Provided motif matrix\n",
    "    :return: The count matrix\n",
    "    \"\"\"\n",
    "    seq_len=len(motif_matrix[0])\n",
    "    num_frag=len(motif_matrix)\n",
    "    motif_matrix = [element for element in motif_matrix if (element is not None)]\n",
    "    nucleo_dict = {'A': 0, 'C': 1,\n",
    "                   'G': 2, 'T': 3}\n",
    "    count_arr = np.zeros((4, seq_len))\n",
    "\n",
    "    for col in range(seq_len):\n",
    "        nucleo_col = list()\n",
    "        for row in range(num_frag):\n",
    "            nucleo_col.append(motif_matrix[row][col])\n",
    "        for nucleo in nucleo_dict.keys():\n",
    "            occur = nucleo_col.count(nucleo)\n",
    "            count_arr[nucleo_dict[nucleo], col] = occur\n",
    "    return count_arr/num_frag\n",
    "        \n",
    "#         for nucleo in nucleo_dict.keys():\n",
    "#             if pseudocount:\n",
    "#                 occur = nucleo_col.count(nucleo)+1\n",
    "#             else:\n",
    "#                 occur = nucleo_col.count(nucleo)\n",
    "#             count_arr[nucleo_dict[nucleo], col] = occur\n",
    "#         count_arr_norm=count_arr/sum(count_arr)\n",
    "#     return count_arr_norm\n",
    "def gen_consensus_sequence(profile_matrix: np.ndarray) -> str:\n",
    "\n",
    "    row_nucleo_dict = {0: 'A', 1: 'C',\n",
    "                       2: 'G', 3: 'T'}\n",
    "\n",
    "    seq = str()\n",
    "    nucleotide = str()\n",
    "    col_length = len(profile_matrix[0, :])\n",
    "    row_length = len(profile_matrix[:, 0])\n",
    "    for j in range(col_length):\n",
    "        max_val = 0\n",
    "        for i in range(row_length):\n",
    "            if profile_matrix[i, j] > max_val:\n",
    "                max_val = profile_matrix[i, j]\n",
    "                nucleotide = row_nucleo_dict[i]\n",
    "        seq = seq + nucleotide\n",
    "    return seq\n",
    "\n",
    "def gen_score(motifs,profile_matrix):\n",
    "    consensus=gen_consensus_sequence(profile_matrix)\n",
    "    score = 0\n",
    "    for motif in motifs:\n",
    "        score += HammingDistance(consensus, motif)\n",
    "    return score\n",
    "\n",
    "def read_file(filename):\n",
    "    with open(filename, \"r\") as dataset:\n",
    "        data = []\n",
    "        for line in dataset:\n",
    "            data.append(line.strip())\n",
    "        k = data[0].split(' ')[0]\n",
    "        num_of_DNAs = data[0].split(' ')[1]        \n",
    "        DNA = data[1].split(' ')\n",
    "    return DNA,int(k),int(num_of_DNAs)\n",
    "\n",
    "filename='C:/Users/Jofan/Downloads/dataset_159_5 (1).txt'\n",
    "DNA,k,num_of_DNAs= read_file(filename)\n",
    "\n",
    "a=greedy_motif_search(DNA,k,num_of_DNAs)\n",
    "print(*a)"
   ]
  },
  {
   "cell_type": "code",
   "execution_count": 20,
   "id": "contrary-structure",
   "metadata": {},
   "outputs": [
    {
     "name": "stdout",
     "output_type": "stream",
     "text": [
      "['CAG', 'CAG', 'CAA', 'CAA', 'CAA']\n"
     ]
    },
    {
     "name": "stderr",
     "output_type": "stream",
     "text": [
      "<ipython-input-19-c04469168198>:45: RuntimeWarning: invalid value encountered in true_divide\n",
      "  count_arr_norm=count_arr/sum(count_arr)\n"
     ]
    },
    {
     "data": {
      "text/plain": [
       "array([[0. , 1. , 0.6],\n",
       "       [1. , 0. , 0. ],\n",
       "       [0. , 0. , 0.4],\n",
       "       [0. , 0. , 0. ]])"
      ]
     },
     "execution_count": 20,
     "metadata": {},
     "output_type": "execute_result"
    }
   ],
   "source": [
    "k=3\n",
    "num_of_DNAs=5\n",
    "DNA=['GGCGTTCAGGCA','AAGAATCAGTCA','CAAGGAGTTCGC','CACGTCAATCAC','CAATAATATTCG']\n",
    "tmp=greedy_motif_search(DNA,k,num_of_DNAs)\n",
    "print(tmp)\n",
    "gen_profile_matrix(tmp)"
   ]
  },
  {
   "cell_type": "code",
   "execution_count": null,
   "id": "higher-somewhere",
   "metadata": {},
   "outputs": [],
   "source": []
  }
 ],
 "metadata": {
  "kernelspec": {
   "display_name": "Python 3",
   "language": "python",
   "name": "python3"
  },
  "language_info": {
   "codemirror_mode": {
    "name": "ipython",
    "version": 3
   },
   "file_extension": ".py",
   "mimetype": "text/x-python",
   "name": "python",
   "nbconvert_exporter": "python",
   "pygments_lexer": "ipython3",
   "version": "3.8.5"
  }
 },
 "nbformat": 4,
 "nbformat_minor": 5
}
